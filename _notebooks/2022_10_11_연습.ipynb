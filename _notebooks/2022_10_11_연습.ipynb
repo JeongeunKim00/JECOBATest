{
  "cells": [
    {
      "cell_type": "markdown",
      "source": [
        "# \"제목!!!\"\n",
        "> \"요약!!!\"\n",
        "\n",
        "- toc:true\n",
        "- branch: master\n",
        "- badges: true\n",
        "- comments: true\n",
        "- author: 정은\n",
        "- categories: [etc, jupyter]"
      ],
      "metadata": {
        "id": "BwUdqtKqKTCl"
      }
    }
  ],
  "metadata": {
    "colab": {
      "collapsed_sections": [],
      "provenance": []
    },
    "kernelspec": {
      "display_name": "Python 3",
      "name": "python3"
    }
  },
  "nbformat": 4,
  "nbformat_minor": 0
}